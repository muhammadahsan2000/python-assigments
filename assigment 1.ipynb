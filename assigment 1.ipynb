{
 "cells": [
  {
   "cell_type": "markdown",
   "id": "a8e60dfe",
   "metadata": {},
   "source": [
    "# question no 2"
   ]
  },
  {
   "cell_type": "code",
   "execution_count": 3,
   "id": "6e150f62",
   "metadata": {},
   "outputs": [
    {
     "name": "stdout",
     "output_type": "stream",
     "text": [
      "Enter your age :12\n",
      "you are not  eligible for voting\n"
     ]
    }
   ],
   "source": [
    "age=int(input(\"Enter your age :\"))\n",
    "if age>17 :\n",
    "    print(\"you are eligible for voting\")\n",
    "else:\n",
    "    print(\"you are not  eligible for voting\")\n"
   ]
  },
  {
   "cell_type": "markdown",
   "id": "95e73962",
   "metadata": {},
   "source": [
    "# question no 3"
   ]
  },
  {
   "cell_type": "code",
   "execution_count": 5,
   "id": "78844e66",
   "metadata": {},
   "outputs": [
    {
     "name": "stdout",
     "output_type": "stream",
     "text": [
      "number is odd\n"
     ]
    }
   ],
   "source": [
    "number=5\n",
    "if number%2 ==0:\n",
    "    print (\"number is even \")\n",
    "else :\n",
    "    print(\"number is odd\")"
   ]
  },
  {
   "cell_type": "markdown",
   "id": "3025c256",
   "metadata": {},
   "source": [
    "# question n0 4"
   ]
  },
  {
   "cell_type": "code",
   "execution_count": 7,
   "id": "012b52c6",
   "metadata": {},
   "outputs": [
    {
     "name": "stdout",
     "output_type": "stream",
     "text": [
      "given number is divisible by 7 \n"
     ]
    }
   ],
   "source": [
    "number=14\n",
    "if number%7 ==0:\n",
    "    print (\"given number is divisible by 7 \")\n",
    "else :\n",
    "    print(\"given number is not  divisible by 7\")"
   ]
  },
  {
   "cell_type": "markdown",
   "id": "7fcc2c3f",
   "metadata": {},
   "source": [
    "# question no 10 Take two int values from user and print greatest among them.\n"
   ]
  },
  {
   "cell_type": "code",
   "execution_count": 31,
   "id": "401fe33a",
   "metadata": {},
   "outputs": [
    {
     "name": "stdout",
     "output_type": "stream",
     "text": [
      "enter a  value1 :12\n",
      "enter a  value2 :34\n",
      "34\n"
     ]
    }
   ],
   "source": [
    "value1=int(input(\"enter a  value1 :\"))\n",
    "value2=int(input(\"enter a  value2 :\"))\n",
    "if value1 >value2:\n",
    "    print( value1 )\n",
    "\n",
    "else:\n",
    "    print(value2)"
   ]
  },
  {
   "cell_type": "markdown",
   "id": "a6ca26c4",
   "metadata": {},
   "source": [
    "# 12) A school has following rules for grading system:\n"
   ]
  },
  {
   "cell_type": "code",
   "execution_count": 24,
   "id": "6db64d19",
   "metadata": {},
   "outputs": [
    {
     "name": "stdout",
     "output_type": "stream",
     "text": [
      "Enter a Marks : 12\n",
      "your grade is fail because your marks is below 25\n"
     ]
    }
   ],
   "source": [
    "marks=int(input(\"Enter a Marks : \"))\n",
    "if marks > 80:\n",
    "    print (\"your grade is A :\")\n",
    "elif marks>60 and  marks<=80:\n",
    "    print (\"your grade is B :\")\n",
    "elif marks>50 and marks<=60: \n",
    "    print (\"your grade is C :\")\n",
    "elif marks>=45 and marks<=50:  \n",
    "    print (\"your grade is D :\")\n",
    "elif marks>=25 and marks<50:  \n",
    "    print (\"your grade is 5 :\")\n",
    "else:\n",
    "    print(\"your grade is fail because your marks is below 25\")\n",
    "    "
   ]
  },
  {
   "cell_type": "markdown",
   "id": "e55c4c5b",
   "metadata": {},
   "source": [
    "# question no 17 ask the  user to enter age, gender ( M or F ), marital status ( Y or N ) and then using following rules print their place of service."
   ]
  },
  {
   "cell_type": "code",
   "execution_count": 34,
   "id": "5c5469f6",
   "metadata": {},
   "outputs": [
    {
     "name": "stdout",
     "output_type": "stream",
     "text": [
      "Enter your age:100\n",
      "Enter your gender:male\n",
      "Enter your martial_status:yes\n",
      "any other input age should be error \n"
     ]
    }
   ],
   "source": [
    "Emp_age=int(input(\"Enter your age:\"))\n",
    "Emp_gender=input(\"Enter your gender:\")\n",
    "Emp_martial_status=input(\"Enter your martial_status:\")\n",
    "if Emp_gender == \"female\":\n",
    "    print(\"she will work only in urban areas.\")\n",
    "elif Emp_gender == \"male\"  and Emp_age >=20 and Emp_age<=40 :\n",
    "    print(\"he may work in anywhere\")\n",
    "elif  Emp_gender == \"male\"  and Emp_age >=40 and Emp_age<=60 :    \n",
    "    print(\" he will work in urban areas only\")\n",
    "else:\n",
    "    print(\"any other input age should be error \")\n",
    "   "
   ]
  },
  {
   "cell_type": "markdown",
   "id": "ff5699c4",
   "metadata": {},
   "source": [
    "### 6) Write a program to calculate the electricity bill (accept number of unit from user) according to the following criteria : Unit Price\n",
    "uptp 100 units no charge Next 200 units Rs 5 per unit After 200 units Rs 10 per unit (For example if input unit is 350 than total bill amount is\n",
    "Rs.3500 (For example if input unit is 97 than total bill amount is Rs.0 (For example if input unit is 150 than total bill amount is Rs.750"
   ]
  },
  {
   "cell_type": "code",
   "execution_count": 39,
   "id": "0617f61f",
   "metadata": {},
   "outputs": [
    {
     "name": "stdout",
     "output_type": "stream",
     "text": [
      "Enter a Electricity  Bill Units :300\n",
      "3000\n"
     ]
    }
   ],
   "source": [
    "charge_amount=0\n",
    "units=int(input(\"Enter a Electricity  Bill Units :\"))\n",
    "if units <= 100 :\n",
    "    charge_amount =0\n",
    "    print(charge_amount )\n",
    "elif units>100 and units<=200 :\n",
    "    charge_amount =units*5\n",
    "    print(charge_amount )\n",
    "else:\n",
    "    charge_amount =units*10\n",
    "    print(charge_amount )\n",
    "    \n"
   ]
  },
  {
   "cell_type": "markdown",
   "id": "c5ec16bd",
   "metadata": {},
   "source": [
    "# #13) Take input of age of 3 people by user and determine oldest and youngest among them."
   ]
  },
  {
   "cell_type": "code",
   "execution_count": 8,
   "id": "efbc8360",
   "metadata": {},
   "outputs": [
    {
     "name": "stdout",
     "output_type": "stream",
     "text": [
      "Enter the age of person 1: 30\n",
      "Enter the age of person 2 :20\n",
      "Enter the age of person 3 :10\n",
      "Person 1 is the oldest\n",
      "Person 3 is the youngest\n"
     ]
    }
   ],
   "source": [
    "age1 =int(input(\"Enter the age of person 1: \"))\n",
    "age2=int(input(\"Enter the age of person 2 :\"))\n",
    "age3=int(input(\"Enter the age of person 3 :\"))\n",
    "if age1 > age2 and age1 > age3:\n",
    "    print(\"Person 1 is the oldest\")\n",
    "    if age2 > age3:\n",
    "        print(\"Person 3 is the youngest\")\n",
    "    else:\n",
    "        print(\"Person 2 is the youngest\")\n",
    "elif age2 > age3:\n",
    "    print(\"Person 2 is the oldest\")\n",
    "    print(\"Person 3 is the youngest\")\n",
    "else:\n",
    "    print(\"Person 3 is the oldest\")\n",
    "    print(\"Person 2 is the youngest\")\n",
    "\n",
    "\n",
    "    \n",
    "    \n"
   ]
  },
  {
   "cell_type": "markdown",
   "id": "7913ec9b",
   "metadata": {},
   "source": [
    "# qno 16) Write a program to check if a year is leap year or not.\n",
    "If a year is divisible by 4 then it is leap year but if the year is century year like 2000, 1900, 2100 then it must be divisible by 400."
   ]
  },
  {
   "cell_type": "code",
   "execution_count": 18,
   "id": "f9d0794d",
   "metadata": {},
   "outputs": [
    {
     "name": "stdout",
     "output_type": "stream",
     "text": [
      "leap year\n"
     ]
    }
   ],
   "source": [
    "year =1900\n",
    "if year%4==0 :\n",
    "    print (\"leap year\")\n",
    "elif year%400 ==0:\n",
    "    print (\"leap year\")\n",
    "else:\n",
    "    print(\"not leap year \")"
   ]
  },
  {
   "cell_type": "markdown",
   "id": "bbcc0be9",
   "metadata": {},
   "source": [
    "# qno 14)A student will not be allowed to sit in exam if his/her attendence is less than 75%.\n",
    "Take following input from user"
   ]
  },
  {
   "cell_type": "code",
   "execution_count": 25,
   "id": "7485a58a",
   "metadata": {},
   "outputs": [
    {
     "name": "stdout",
     "output_type": "stream",
     "text": [
      "Enter a number of classes  :10\n",
      "Enter a number of classes attend :8\n",
      "80.0\n",
      "student are allowed in exam \n"
     ]
    }
   ],
   "source": [
    "No_classes_held=int(input(\"Enter a number of classes  :\"))\n",
    "No_classes_attend=int(input(\"Enter a number of classes attend :\"))\n",
    "attendence=(No_classes_attend/No_classes_held)*100\n",
    "print (attendence)\n",
    "if attendence >=75 :\n",
    "    print(\"student are allowed in exam \")\n",
    "else:\n",
    "    print(\"student are not allowed in exam \")\n"
   ]
  },
  {
   "cell_type": "markdown",
   "id": "33a1ce93",
   "metadata": {},
   "source": [
    "## qno 15) Modify the above question to allow student to sit if he/she has medical cause. Ask user if he/she has medical cause or not ( 'Y' or 'N' ) and\n",
    "print accordingly.\n"
   ]
  },
  {
   "cell_type": "raw",
   "id": "4be050d0",
   "metadata": {},
   "source": [
    " \n"
   ]
  },
  {
   "cell_type": "code",
   "execution_count": 30,
   "id": "95442214",
   "metadata": {},
   "outputs": [
    {
     "name": "stdout",
     "output_type": "stream",
     "text": [
      "Enter if any  medical disease or not  :yes\n",
      "you are not allow in exam  \n"
     ]
    }
   ],
   "source": [
    "medical_cause=input(\"Enter if any  medical disease or not  :\")\n",
    "if medical_cause==\"yes\":\n",
    "    print(\"you are not allow in exam  \")\n",
    "else:\n",
    "     print(\"you are  allow in exam  \")\n"
   ]
  },
  {
   "cell_type": "markdown",
   "id": "9e2674f5",
   "metadata": {},
   "source": [
    "### question no 9 Take values of length and breadth of a rectangle from user and print if it is square or rectangle.\n"
   ]
  },
  {
   "cell_type": "code",
   "execution_count": 32,
   "id": "f76f22e1",
   "metadata": {},
   "outputs": [
    {
     "name": "stdout",
     "output_type": "stream",
     "text": [
      "Enter a length of rectangle 10\n",
      "Enter a breadth of rectangle 12\n",
      "given data represent rectangle \n"
     ]
    }
   ],
   "source": [
    "length=int(input(\"Enter a length of rectangle \"))\n",
    "breadth=int(input(\"Enter a breadth of rectangle \"))\n",
    "if length==breadth:\n",
    "    print (\"given data represent square\")\n",
    "else:\n",
    "    print(\"given data represent rectangle \")"
   ]
  },
  {
   "cell_type": "markdown",
   "id": "946ed5c7",
   "metadata": {},
   "source": [
    "## qno 5) Write a program to display \"Hello\" if a number entered by user is a multiple of five , otherwise print \"Bye\"."
   ]
  },
  {
   "cell_type": "code",
   "execution_count": 34,
   "id": "6c2616e7",
   "metadata": {},
   "outputs": [
    {
     "name": "stdout",
     "output_type": "stream",
     "text": [
      "Enter a number :23\n",
      "Bye\n"
     ]
    }
   ],
   "source": [
    "Number =int(input(\"Enter a number :\"))\n",
    "if Number%5==0 :\n",
    "    print(\"hello\")\n",
    "else:\n",
    "    print(\"Bye\")"
   ]
  },
  {
   "cell_type": "markdown",
   "id": "4681aca7",
   "metadata": {},
   "source": [
    "# qno 7) Write a program to display the last digit of a number."
   ]
  },
  {
   "cell_type": "code",
   "execution_count": 40,
   "id": "887c6728",
   "metadata": {},
   "outputs": [
    {
     "name": "stdout",
     "output_type": "stream",
     "text": [
      "The last digit of 12350 is 5\n"
     ]
    }
   ],
   "source": [
    "Number= 12345\n",
    "last_digit=Number %10\n",
    "print(f\"The last digit of {number} is {last_digit}\")"
   ]
  },
  {
   "cell_type": "markdown",
   "id": "b9376121",
   "metadata": {},
   "source": [
    "### Qno 8. Write a program to check whether the last digit of a number( entered by user ) is divisible by 3 or not."
   ]
  },
  {
   "cell_type": "code",
   "execution_count": 45,
   "id": "5a323396",
   "metadata": {},
   "outputs": [
    {
     "name": "stdout",
     "output_type": "stream",
     "text": [
      "Enter a number : 12345678\n",
      "The last digit of 12345678 is 8 \n",
      "number is not  divisible by 3\n"
     ]
    }
   ],
   "source": [
    "number=int(input(\"Enter a number : \"))\n",
    "last_digit=number%10\n",
    "print(f\"The last digit of {number} is {last_digit} \")\n",
    "if last_digit%3==0:\n",
    "    print(\"number is divisible by 3\")\n",
    "else:\n",
    "    print(\"number is not  divisible by 3\")\n"
   ]
  },
  {
   "cell_type": "markdown",
   "id": "352a1d0c",
   "metadata": {},
   "source": [
    "### qno 1) A company decided to give bonus of 5% to employee if his/her year of service is more than 5 years. Ask user for their salary and year of\n",
    "service and print the net bonus amount."
   ]
  },
  {
   "cell_type": "code",
   "execution_count": 56,
   "id": "55ae946b",
   "metadata": {},
   "outputs": [
    {
     "name": "stdout",
     "output_type": "stream",
     "text": [
      "Enter your salray :100000\n",
      "Enter your services year 8\n",
      "105000.0\n"
     ]
    }
   ],
   "source": [
    "Bonus_rate =0.05  # 5% lie\n",
    "Salary= int(input(\"Enter your salray :\"))\n",
    "Yearofservice=int(input(\"Enter your services year \"))\n",
    "if  Yearofservice>5:\n",
    "    Bonus=Salary*Bonus_rate\n",
    "    net_salary=Salary+Bonus\n",
    "    print(net_salary)\n",
    "else:\n",
    "    print(\"Sorry, you are not eligible for bonus as your years of service are less than 6.\")\n",
    "    \n"
   ]
  },
  {
   "cell_type": "markdown",
   "id": "c0f33927",
   "metadata": {},
   "source": [
    "# qno 11 ) A shop will give discount of 10% if the cost of purchased quantity is more than 1000. Ask user for quantity Suppose, one unit will cost 100.\n",
    "Judge and print total cost for user."
   ]
  },
  {
   "cell_type": "code",
   "execution_count": 57,
   "id": "451990b7",
   "metadata": {},
   "outputs": [
    {
     "name": "stdout",
     "output_type": "stream",
     "text": [
      "Enter the quantity you purchased: 400\n",
      "Your total cost before discount is Rs.40000.00.\n",
      "Congratulations! You get a discount of Rs.4000.00.\n",
      "Your total cost after discount is Rs.36000.00.\n"
     ]
    }
   ],
   "source": [
    "unit_cost = 100  # Define cost per unit\n",
    "\n",
    "# Get user input for quantity purchased\n",
    "quantity = int(input(\"Enter the quantity you purchased: \"))\n",
    "\n",
    "# Calculate total cost before discount\n",
    "total_cost = unit_cost * quantity\n",
    "\n",
    "# Check if cost exceeds discount threshold\n",
    "if total_cost > 1000:\n",
    "    # Apply discount (10%)\n",
    "    discount = total_cost * 0.1\n",
    "    discounted_cost = total_cost - discount\n",
    "\n",
    "    # Print message with both original and discounted cost\n",
    "    print(f\"Your total cost before discount is Rs.{total_cost:.2f}.\")\n",
    "    print(f\"Congratulations! You get a discount of Rs.{discount:.2f}.\")\n",
    "    print(f\"Your total cost after discount is Rs.{discounted_cost:.2f}.\")\n",
    "else:\n",
    "    # Print only the original cost without discount\n",
    "    print(f\"Your total cost is Rs.{total_cost:.2f}.\")"
   ]
  },
  {
   "cell_type": "code",
   "execution_count": null,
   "id": "5cd1216c",
   "metadata": {},
   "outputs": [],
   "source": []
  }
 ],
 "metadata": {
  "kernelspec": {
   "display_name": "Python 3 (ipykernel)",
   "language": "python",
   "name": "python3"
  },
  "language_info": {
   "codemirror_mode": {
    "name": "ipython",
    "version": 3
   },
   "file_extension": ".py",
   "mimetype": "text/x-python",
   "name": "python",
   "nbconvert_exporter": "python",
   "pygments_lexer": "ipython3",
   "version": "3.11.5"
  }
 },
 "nbformat": 4,
 "nbformat_minor": 5
}
